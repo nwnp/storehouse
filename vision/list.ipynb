{
 "cells": [
  {
   "cell_type": "code",
   "execution_count": 1,
   "id": "7119404e-685c-4161-a165-acdf2aeae282",
   "metadata": {},
   "outputs": [
    {
     "name": "stdout",
     "output_type": "stream",
     "text": [
      "[2, 3]\n"
     ]
    }
   ],
   "source": [
    "a = [1, 2, 3, 4, 5]\n",
    "print(a[1:3])"
   ]
  },
  {
   "cell_type": "markdown",
   "id": "4944b1e3-76c3-4567-9f4f-59819e241a45",
   "metadata": {},
   "source": [
    "### slicing[x:y]\n",
    "#### x+1인덱스부터 y까지"
   ]
  },
  {
   "cell_type": "code",
   "execution_count": 3,
   "id": "368d008c-2775-416c-9e58-f356213b9698",
   "metadata": {},
   "outputs": [
    {
     "name": "stdout",
     "output_type": "stream",
     "text": [
      "[1, 2] [3, 4, 5]\n"
     ]
    }
   ],
   "source": [
    "b = a[:2] # 1, 2\n",
    "c = a[2:] # 3, 4, 5\n",
    "print(b, c)"
   ]
  },
  {
   "cell_type": "markdown",
   "id": "b79d941a-24ce-4fea-aacc-73f6b7d49cdc",
   "metadata": {},
   "source": [
    "### slicing[:y]\n",
    "#### 0 ~ y-1까지"
   ]
  },
  {
   "cell_type": "code",
   "execution_count": 6,
   "id": "c90fef64-3b9c-40dd-aa65-b4f805dd7d2e",
   "metadata": {},
   "outputs": [
    {
     "name": "stdout",
     "output_type": "stream",
     "text": [
      "[3, ['a', 'b', 'c'], 4]\n"
     ]
    }
   ],
   "source": [
    "a = [1, 2, 3, ['a', 'b', 'c'], 4, 5]\n",
    "print(a[2:5]) # 3, a b c, 4"
   ]
  },
  {
   "cell_type": "code",
   "execution_count": null,
   "id": "7c422d81-6938-4da4-8b2f-adbf21b3a0bc",
   "metadata": {},
   "outputs": [],
   "source": []
  },
  {
   "cell_type": "markdown",
   "id": "b5dd076e-e72b-4320-af17-809c16d52a11",
   "metadata": {},
   "source": [
    "# 요소 삭제"
   ]
  },
  {
   "cell_type": "code",
   "execution_count": 8,
   "id": "d0d7dacb-f6dd-47fb-ac31-edc6aa7666b9",
   "metadata": {},
   "outputs": [
    {
     "name": "stdout",
     "output_type": "stream",
     "text": [
      "[1, 2]\n"
     ]
    }
   ],
   "source": [
    "a = [1, 2, 3, 4, 5]\n",
    "del a[2:]\n",
    "print(a) # 1, 2"
   ]
  },
  {
   "cell_type": "code",
   "execution_count": 10,
   "id": "77b4184d-0c31-421c-9679-bb91f8a530de",
   "metadata": {},
   "outputs": [
    {
     "name": "stdout",
     "output_type": "stream",
     "text": [
      "[1, 2, 4, 3]\n",
      "[1, 2, 4]\n"
     ]
    }
   ],
   "source": [
    "a = [1, 2, 3, 4, 3]\n",
    "a.remove(3)\n",
    "print(a) # 1, 2, 4, 3\n",
    "a.remove(3)\n",
    "print(a) # 1, 2, 4"
   ]
  },
  {
   "cell_type": "markdown",
   "id": "a199446a-9880-47bc-9fb8-236fb1408f26",
   "metadata": {},
   "source": [
    "# 요소 추출"
   ]
  },
  {
   "cell_type": "code",
   "execution_count": 26,
   "id": "6885a5ba-c6c6-4c61-8595-c67496b4ad20",
   "metadata": {},
   "outputs": [
    {
     "name": "stdout",
     "output_type": "stream",
     "text": [
      "[1, 2, 3, 4] 5\n"
     ]
    }
   ],
   "source": [
    "a = [1, 2, 3, 4, 5]\n",
    "returnedData = a.pop() # pop -> 파괴적 함수\n",
    "print(a, returnedData) # 변환된 a 리스트"
   ]
  },
  {
   "cell_type": "code",
   "execution_count": 27,
   "id": "ff207193-0a81-472c-bba4-da77a5c2f960",
   "metadata": {},
   "outputs": [
    {
     "name": "stdout",
     "output_type": "stream",
     "text": [
      "[1, 2, 3, 4]\n"
     ]
    }
   ],
   "source": [
    "a.index(4) # 인덱스의 위치를 반환 -> 비파괴적 함수\n",
    "print(a)"
   ]
  },
  {
   "cell_type": "markdown",
   "id": "73f88da8-3865-4c70-8168-9dc40cda557b",
   "metadata": {},
   "source": [
    "# 요소 삽입 및 추가"
   ]
  },
  {
   "cell_type": "code",
   "execution_count": 28,
   "id": "40faffe0-2fd8-4ce7-8da5-b17002b9e8dd",
   "metadata": {},
   "outputs": [
    {
     "name": "stdout",
     "output_type": "stream",
     "text": [
      "[4, 1, 2, 3]\n"
     ]
    }
   ],
   "source": [
    "a = [1, 2, 3]\n",
    "a.insert(0, 4)\n",
    "print(a)"
   ]
  },
  {
   "cell_type": "code",
   "execution_count": 29,
   "id": "609cb58b-51d3-4095-8fcb-c98c26de2025",
   "metadata": {},
   "outputs": [
    {
     "name": "stdout",
     "output_type": "stream",
     "text": [
      "[4, 1, 2, 3, 5]\n"
     ]
    }
   ],
   "source": [
    "a.append(5)\n",
    "print(a)"
   ]
  },
  {
   "cell_type": "code",
   "execution_count": null,
   "id": "93803418-1221-49c4-b6ce-b64089d2e666",
   "metadata": {},
   "outputs": [],
   "source": []
  }
 ],
 "metadata": {
  "kernelspec": {
   "display_name": "Python 3 (ipykernel)",
   "language": "python",
   "name": "python3"
  },
  "language_info": {
   "codemirror_mode": {
    "name": "ipython",
    "version": 3
   },
   "file_extension": ".py",
   "mimetype": "text/x-python",
   "name": "python",
   "nbconvert_exporter": "python",
   "pygments_lexer": "ipython3",
   "version": "3.9.7"
  }
 },
 "nbformat": 4,
 "nbformat_minor": 5
}
