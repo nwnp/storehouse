{
 "cells": [
  {
   "cell_type": "markdown",
   "id": "e8fb81ac-b25e-4c5f-9022-29ace25eeb33",
   "metadata": {},
   "source": [
    "# 배열의 분리"
   ]
  },
  {
   "cell_type": "code",
   "execution_count": 1,
   "id": "60c89282-7d1b-4f2b-b185-a2215dc5cb6c",
   "metadata": {},
   "outputs": [],
   "source": [
    "import numpy as np"
   ]
  },
  {
   "cell_type": "code",
   "execution_count": 3,
   "id": "6ba56fe1-3cb7-43bf-a4de-f198cb97b15d",
   "metadata": {},
   "outputs": [
    {
     "data": {
      "text/plain": [
       "array([[0, 1, 2, 3, 4],\n",
       "       [5, 6, 7, 8, 9]])"
      ]
     },
     "execution_count": 3,
     "metadata": {},
     "output_type": "execute_result"
    }
   ],
   "source": [
    "array = np.arange(10).reshape(2, 5)\n",
    "array"
   ]
  },
  {
   "cell_type": "code",
   "execution_count": 4,
   "id": "6087fa2c-d28b-4199-b574-85e7271e843f",
   "metadata": {},
   "outputs": [
    {
     "data": {
      "text/plain": [
       "[array([[0, 1, 2, 3, 4]]), array([[5, 6, 7, 8, 9]])]"
      ]
     },
     "execution_count": 4,
     "metadata": {},
     "output_type": "execute_result"
    }
   ],
   "source": [
    "detach1 = np.split(array, 2, axis=0)\n",
    "detach1"
   ]
  },
  {
   "cell_type": "code",
   "execution_count": 6,
   "id": "fa8fa65a-20fe-4477-974f-9a6890896cb1",
   "metadata": {},
   "outputs": [
    {
     "data": {
      "text/plain": [
       "[array([[0, 1],\n",
       "        [5, 6]]),\n",
       " array([[2],\n",
       "        [7]]),\n",
       " array([[3, 4],\n",
       "        [8, 9]])]"
      ]
     },
     "execution_count": 6,
     "metadata": {},
     "output_type": "execute_result"
    }
   ],
   "source": [
    "detach2 = np.split(array, [2, 3], axis=1)\n",
    "detach2"
   ]
  },
  {
   "cell_type": "code",
   "execution_count": null,
   "id": "30801531-8864-413b-a2a9-45d6c14041a4",
   "metadata": {},
   "outputs": [],
   "source": []
  }
 ],
 "metadata": {
  "kernelspec": {
   "display_name": "Python 3 (ipykernel)",
   "language": "python",
   "name": "python3"
  },
  "language_info": {
   "codemirror_mode": {
    "name": "ipython",
    "version": 3
   },
   "file_extension": ".py",
   "mimetype": "text/x-python",
   "name": "python",
   "nbconvert_exporter": "python",
   "pygments_lexer": "ipython3",
   "version": "3.9.7"
  }
 },
 "nbformat": 4,
 "nbformat_minor": 5
}
