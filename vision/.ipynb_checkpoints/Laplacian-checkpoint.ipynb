{
 "cells": [
  {
   "cell_type": "code",
   "execution_count": 1,
   "id": "9221a4ad-7d8e-4c50-af66-dab7a4d56f31",
   "metadata": {},
   "outputs": [],
   "source": [
    "import cv2\n",
    "import numpy as np"
   ]
  },
  {
   "cell_type": "code",
   "execution_count": 2,
   "id": "26bbd6cf-eb99-40c7-ae50-56d24f83b464",
   "metadata": {},
   "outputs": [],
   "source": [
    "src = cv2.imread('car.png', cv2.IMREAD_GRAYSCALE)"
   ]
  },
  {
   "cell_type": "code",
   "execution_count": 3,
   "id": "976d23f6-a6af-46f3-8540-a36c37837ee3",
   "metadata": {},
   "outputs": [],
   "source": [
    "laplacian = cv2.Laplacian(src, cv2.CV_8U, ksize=3)"
   ]
  },
  {
   "cell_type": "code",
   "execution_count": 4,
   "id": "8de16929-1b18-4a7f-a1b9-673bd5bae712",
   "metadata": {},
   "outputs": [],
   "source": [
    "cv2.imshow('src', src)\n",
    "cv2.imshow('laplacian', laplacian)"
   ]
  },
  {
   "cell_type": "code",
   "execution_count": 5,
   "id": "8a352f74-8530-4b67-ab72-be30ab64fbb9",
   "metadata": {},
   "outputs": [],
   "source": [
    "cv2.waitKey()\n",
    "cv2.destroyAllWindows()"
   ]
  },
  {
   "cell_type": "code",
   "execution_count": null,
   "id": "386f9ef1-d82d-45bb-a3fa-7a01f83401e0",
   "metadata": {},
   "outputs": [],
   "source": []
  }
 ],
 "metadata": {
  "kernelspec": {
   "display_name": "Python 3 (ipykernel)",
   "language": "python",
   "name": "python3"
  },
  "language_info": {
   "codemirror_mode": {
    "name": "ipython",
    "version": 3
   },
   "file_extension": ".py",
   "mimetype": "text/x-python",
   "name": "python",
   "nbconvert_exporter": "python",
   "pygments_lexer": "ipython3",
   "version": "3.9.7"
  }
 },
 "nbformat": 4,
 "nbformat_minor": 5
}
