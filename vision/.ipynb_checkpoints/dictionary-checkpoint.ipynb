{
 "cells": [
  {
   "cell_type": "markdown",
   "id": "567fbe63-0a0b-41ed-a49e-9b86c7243f78",
   "metadata": {},
   "source": [
    "# Dictionary"
   ]
  },
  {
   "cell_type": "code",
   "execution_count": 3,
   "id": "d4623027-a9fd-4dcf-a804-5645e466786c",
   "metadata": {},
   "outputs": [
    {
     "name": "stdout",
     "output_type": "stream",
     "text": [
      "hello\n"
     ]
    }
   ],
   "source": [
    "dic = {'name':'hello', 'phone':'01076018733'}\n",
    "print(dic['name'])"
   ]
  },
  {
   "cell_type": "code",
   "execution_count": 4,
   "id": "ce675c90-a8e7-4cf3-976a-fdfce18877ee",
   "metadata": {},
   "outputs": [
    {
     "name": "stdout",
     "output_type": "stream",
     "text": [
      "a\n"
     ]
    }
   ],
   "source": [
    "a = {34: 'a'}\n",
    "print(a[34])"
   ]
  },
  {
   "cell_type": "markdown",
   "id": "0b4a646b-518b-45a2-b2e3-48a0c476de9f",
   "metadata": {},
   "source": [
    "#### 중복일 때\n",
    "#### 마지막에 넣은 key, value가 삽입됨"
   ]
  },
  {
   "cell_type": "code",
   "execution_count": 6,
   "id": "5c255dfb-03a3-4fe3-839c-3d1cf675cdd8",
   "metadata": {},
   "outputs": [
    {
     "name": "stdout",
     "output_type": "stream",
     "text": [
      "value2\n"
     ]
    }
   ],
   "source": [
    "a = {1: 'value', 1: 'value2'}\n",
    "print(a[1])"
   ]
  },
  {
   "cell_type": "markdown",
   "id": "da2c2828-8bfc-489b-9b4a-ea7726381400",
   "metadata": {},
   "source": [
    "#### 기존의 key만 다른 리스트에 할당하고 싶을 때"
   ]
  },
  {
   "cell_type": "code",
   "execution_count": 11,
   "id": "3a2d4d07-c1a2-4b11-a9fd-bf45ef9a2c78",
   "metadata": {},
   "outputs": [],
   "source": [
    "a = {'name': 'jin', 'phone':'1234', 'birth':'0528'}\n",
    "a_keys = a.keys()"
   ]
  },
  {
   "cell_type": "code",
   "execution_count": 16,
   "id": "15ef34e9-8d14-4ba6-8b55-0b9504718afa",
   "metadata": {},
   "outputs": [
    {
     "name": "stdout",
     "output_type": "stream",
     "text": [
      "['name', 'phone', 'birth']\n"
     ]
    }
   ],
   "source": [
    "print(a_keys)\n",
    "# list 형태가 아니라 dict_keys 라는 객체로 반환됨"
   ]
  },
  {
   "cell_type": "code",
   "execution_count": 17,
   "id": "bf6044fc-5d22-4e0d-8513-13386933dc94",
   "metadata": {},
   "outputs": [
    {
     "name": "stdout",
     "output_type": "stream",
     "text": [
      "['name', 'phone', 'birth']\n"
     ]
    }
   ],
   "source": [
    "a_keys = list(a.keys())\n",
    "print(a_keys)"
   ]
  },
  {
   "cell_type": "code",
   "execution_count": 21,
   "id": "4431ecf2-8262-40b6-8f4c-3edc987b0908",
   "metadata": {},
   "outputs": [
    {
     "name": "stdout",
     "output_type": "stream",
     "text": [
      "name phone\n"
     ]
    }
   ],
   "source": [
    "print(a_keys[0], a_keys[1])"
   ]
  },
  {
   "cell_type": "code",
   "execution_count": 22,
   "id": "8234504a-2cdf-4124-b7eb-e2f4c83ebc8c",
   "metadata": {},
   "outputs": [
    {
     "name": "stdout",
     "output_type": "stream",
     "text": [
      "name\n",
      "phone\n",
      "birth\n"
     ]
    }
   ],
   "source": [
    "for name in a.keys():\n",
    "    print(name)"
   ]
  },
  {
   "cell_type": "code",
   "execution_count": 25,
   "id": "08bb2141-c769-4ea7-9311-63e5c7c42dcd",
   "metadata": {},
   "outputs": [
    {
     "name": "stdout",
     "output_type": "stream",
     "text": [
      "jin\n"
     ]
    }
   ],
   "source": [
    "print(a.get('name'))"
   ]
  },
  {
   "cell_type": "code",
   "execution_count": 29,
   "id": "9dcd3577-549d-468a-aecd-8377ae665f5b",
   "metadata": {},
   "outputs": [
    {
     "name": "stdout",
     "output_type": "stream",
     "text": [
      "['jin', '1234', '0528']\n"
     ]
    }
   ],
   "source": [
    "a_values = list(a.values())\n",
    "print(a_values)"
   ]
  },
  {
   "cell_type": "code",
   "execution_count": 32,
   "id": "4411c134-8c88-4885-a23a-98298920d481",
   "metadata": {},
   "outputs": [
    {
     "name": "stdout",
     "output_type": "stream",
     "text": [
      "None\n"
     ]
    }
   ],
   "source": [
    "print(a.get('nope')) # 없는 key 접근"
   ]
  },
  {
   "cell_type": "markdown",
   "id": "04c4d161-7e30-4377-85ba-f810a2c90991",
   "metadata": {},
   "source": [
    "#### 없는 key에 접근하면서 value값을 지정해서 접근"
   ]
  },
  {
   "cell_type": "code",
   "execution_count": 35,
   "id": "8e0092eb-9429-46ab-bc60-9dc2f994e416",
   "metadata": {},
   "outputs": [
    {
     "name": "stdout",
     "output_type": "stream",
     "text": [
      "default_values\n"
     ]
    }
   ],
   "source": [
    "print(a.get('nope', 'default_values'))\n",
    "# 두 번째 매개변수 값이 출력됨"
   ]
  },
  {
   "cell_type": "markdown",
   "id": "f5dcdf52-fc14-48dd-a8bd-1b7b5f5f52d9",
   "metadata": {},
   "source": [
    "#### key 조사\n",
    "##### 'key' in 리스트명"
   ]
  },
  {
   "cell_type": "code",
   "execution_count": 36,
   "id": "6b0fb9bb-52d9-4797-a656-4a6b4ea93fdd",
   "metadata": {},
   "outputs": [
    {
     "name": "stdout",
     "output_type": "stream",
     "text": [
      "True\n"
     ]
    }
   ],
   "source": [
    "print('name' in a)"
   ]
  },
  {
   "cell_type": "code",
   "execution_count": null,
   "id": "fc3042c3-9132-47ef-9c1b-2e0dc1178087",
   "metadata": {},
   "outputs": [],
   "source": []
  }
 ],
 "metadata": {
  "kernelspec": {
   "display_name": "Python 3 (ipykernel)",
   "language": "python",
   "name": "python3"
  },
  "language_info": {
   "codemirror_mode": {
    "name": "ipython",
    "version": 3
   },
   "file_extension": ".py",
   "mimetype": "text/x-python",
   "name": "python",
   "nbconvert_exporter": "python",
   "pygments_lexer": "ipython3",
   "version": "3.9.7"
  }
 },
 "nbformat": 4,
 "nbformat_minor": 5
}
