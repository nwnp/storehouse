{
 "cells": [
  {
   "cell_type": "code",
   "execution_count": 1,
   "id": "389ae81f-f8c6-4ab8-a96c-6bfadc3d1978",
   "metadata": {},
   "outputs": [],
   "source": [
    "import cv2\n",
    "import numpy as np"
   ]
  },
  {
   "cell_type": "code",
   "execution_count": 2,
   "id": "07050b9f-78b1-4ebd-869d-af8771a1271b",
   "metadata": {},
   "outputs": [],
   "source": [
    "src = cv2.imread('book.jpg', cv2.IMREAD_GRAYSCALE)"
   ]
  },
  {
   "cell_type": "code",
   "execution_count": 3,
   "id": "964cbeac-3944-4785-9420-196f5def4dd0",
   "metadata": {},
   "outputs": [],
   "source": [
    "src = cv2.GaussianBlur(src, (5, 5),0, 0, borderType=cv2.BORDER_ISOLATED)"
   ]
  },
  {
   "cell_type": "code",
   "execution_count": 4,
   "id": "ce791aee-20f1-43d4-851e-d7b63182726d",
   "metadata": {},
   "outputs": [],
   "source": [
    "dx = cv2.Sobel(src, cv2.CV_32F, 1, 0, delta=0)\n",
    "dy = cv2.Sobel(src, cv2.CV_32F, 0, 1, delta=0)"
   ]
  },
  {
   "cell_type": "code",
   "execution_count": 5,
   "id": "28cc8d53-03c5-4787-9fef-1a771977c63b",
   "metadata": {},
   "outputs": [],
   "source": [
    "mag = cv2.magnitude(dx, dy)\n",
    "mag = np.clip(mag, 0, 255).astype(np.uint8)"
   ]
  },
  {
   "cell_type": "code",
   "execution_count": 7,
   "id": "e7115ca3-e0b5-473b-8e5a-808cbed64585",
   "metadata": {},
   "outputs": [],
   "source": [
    "dst = np.zeros(src.shape[:2], np.uint8)"
   ]
  },
  {
   "cell_type": "code",
   "execution_count": 8,
   "id": "427be354-1326-4963-87b0-fe4413c74af0",
   "metadata": {},
   "outputs": [],
   "source": [
    "cv2.imshow('dst', dst)\n",
    "cv2.waitKey(0)\n",
    "cv2.destroyAllWindows()"
   ]
  },
  {
   "cell_type": "code",
   "execution_count": null,
   "id": "51b2902d-6cff-4fe8-bf03-160199a0289f",
   "metadata": {},
   "outputs": [],
   "source": []
  }
 ],
 "metadata": {
  "kernelspec": {
   "display_name": "Python 3 (ipykernel)",
   "language": "python",
   "name": "python3"
  },
  "language_info": {
   "codemirror_mode": {
    "name": "ipython",
    "version": 3
   },
   "file_extension": ".py",
   "mimetype": "text/x-python",
   "name": "python",
   "nbconvert_exporter": "python",
   "pygments_lexer": "ipython3",
   "version": "3.9.7"
  }
 },
 "nbformat": 4,
 "nbformat_minor": 5
}
