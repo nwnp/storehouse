{
 "cells": [
  {
   "cell_type": "markdown",
   "id": "b8710ae1-295c-432b-a565-d17ced1986ad",
   "metadata": {},
   "source": [
    "# 트랙 바\n",
    "- 효율적으로 최적의 값을 찾을 수 있음\n",
    "- 일정 범위 내의 값을 변경할 때 주로 사용\n",
    "    - 적절한 임곗값을 찾거나 변경하기 위해 사용\n",
    "- 트랙 바 생성 함수\n",
    "> cv2.createTrackBar(trackbarName, windowName, value, count, onChange)\n",
    "- 트랙 바 위치 반환 함수\n",
    "> retval = cv2.getTrackbarPos(trackbarName, windowName)"
   ]
  },
  {
   "cell_type": "code",
   "execution_count": 6,
   "id": "0c4a5613-f9ec-4009-b7ab-5f357678120c",
   "metadata": {},
   "outputs": [],
   "source": [
    "import cv2\n",
    "import numpy as np"
   ]
  },
  {
   "cell_type": "code",
   "execution_count": 7,
   "id": "8258b532-4f19-4987-85c5-6af9973d662e",
   "metadata": {},
   "outputs": [],
   "source": [
    "def onChangeBlue(pos):\n",
    "    global b\n",
    "    b = pos\n",
    "    cv2.imshow('palette', createImage(b, g, r))\n",
    "\n",
    "def createImage(b, g, r):\n",
    "    return np.full((500, 500, 3), (b, g, r), dtype=np.uint8)"
   ]
  },
  {
   "cell_type": "code",
   "execution_count": 8,
   "id": "45da6e2e-baac-4dc0-9019-473f9b29a578",
   "metadata": {},
   "outputs": [],
   "source": [
    "b, g, r = 0, 0, 0"
   ]
  },
  {
   "cell_type": "code",
   "execution_count": 9,
   "id": "134ab52e-cecb-45ab-9f97-6623b63c8942",
   "metadata": {},
   "outputs": [],
   "source": [
    "cv2.namedWindow('palette')\n",
    "cv2.createTrackbar('blue', 'palette', 55, 255, onChangeBlue)\n",
    "cv2.createTrackbar('green', 'palette', 0, 255, lambda x:x)\n",
    "cv2.createTrackbar('red', 'palette', 0, 255, lambda x:x)"
   ]
  },
  {
   "cell_type": "code",
   "execution_count": 10,
   "id": "6933a540-c3ca-4947-a9aa-ff4e6513a02d",
   "metadata": {},
   "outputs": [],
   "source": [
    "while True:\n",
    "    b = cv2.getTrackbarPos('blue', 'palette')\n",
    "    g = cv2.getTrackbarPos('green', 'palette')\n",
    "    r = cv2.getTrackbarPos('red', 'palette')\n",
    "    \n",
    "    cv2.imshow('palette', createImage(b, g, r))\n",
    "    if cv2.waitKey(33) & 0xFF == ord('q'):\n",
    "        break\n",
    "\n",
    "cv2.destroyAllWindows()"
   ]
  },
  {
   "cell_type": "code",
   "execution_count": null,
   "id": "6e255fc5-90e7-4eed-acb5-49cfc7a04cf4",
   "metadata": {},
   "outputs": [],
   "source": []
  }
 ],
 "metadata": {
  "kernelspec": {
   "display_name": "Python 3 (ipykernel)",
   "language": "python",
   "name": "python3"
  },
  "language_info": {
   "codemirror_mode": {
    "name": "ipython",
    "version": 3
   },
   "file_extension": ".py",
   "mimetype": "text/x-python",
   "name": "python",
   "nbconvert_exporter": "python",
   "pygments_lexer": "ipython3",
   "version": "3.9.7"
  }
 },
 "nbformat": 4,
 "nbformat_minor": 5
}
