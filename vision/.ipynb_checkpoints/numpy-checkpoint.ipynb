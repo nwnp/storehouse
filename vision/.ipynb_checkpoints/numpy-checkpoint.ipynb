{
 "cells": [
  {
   "cell_type": "markdown",
   "id": "10d645af-5dda-4938-bb7f-0da3ef2cc645",
   "metadata": {},
   "source": [
    "# Numpy\n",
    "#### 이미지 데이터를 행렬로 표현함\n",
    "#### 파이썬에서는 행렬이 없기 때문에 라이브러리 사용"
   ]
  },
  {
   "cell_type": "code",
   "execution_count": 1,
   "id": "48bd95a6-c069-439a-8dba-ac3cbd7aff92",
   "metadata": {},
   "outputs": [],
   "source": [
    "import numpy as np"
   ]
  },
  {
   "cell_type": "code",
   "execution_count": 2,
   "id": "3432755d-7bb9-43cb-a1e8-6d6f88b6f25f",
   "metadata": {},
   "outputs": [
    {
     "data": {
      "text/plain": [
       "array([[1, 2, 3],\n",
       "       [4, 5, 6]])"
      ]
     },
     "execution_count": 2,
     "metadata": {},
     "output_type": "execute_result"
    }
   ],
   "source": [
    "array = np.array([[1, 2, 3],\n",
    "                 [4, 5, 6]\n",
    "                 ])\n",
    "array"
   ]
  },
  {
   "cell_type": "code",
   "execution_count": 5,
   "id": "a9472fa9-7860-4cd7-b01e-1572a530e660",
   "metadata": {},
   "outputs": [
    {
     "name": "stdout",
     "output_type": "stream",
     "text": [
      "2\n",
      "(2, 3)\n",
      "int64\n"
     ]
    }
   ],
   "source": [
    "print(array.ndim) # 차원의 수\n",
    "print(array.shape) # n x m 행렬 형태로 출력\n",
    "print(array.dtype)"
   ]
  },
  {
   "cell_type": "code",
   "execution_count": 7,
   "id": "84697072-2cc9-47f2-860b-91ba8f2a5502",
   "metadata": {},
   "outputs": [],
   "source": [
    "array1 = np.array([[1, 2, 3], [4, 5, 6]])\n",
    "array2 = np.array([1, 2, 3], dtype=complex, ndmin=3)\n",
    "array3 = np.array(array1, copy=False)"
   ]
  },
  {
   "cell_type": "code",
   "execution_count": 8,
   "id": "6ff08dc8-a446-4a8a-a7f5-443d8c4f4494",
   "metadata": {},
   "outputs": [
    {
     "name": "stdout",
     "output_type": "stream",
     "text": [
      "[[4 5 6]\n",
      " [4 5 6]]\n",
      "[[[1.+0.j 2.+0.j 3.+0.j]]]\n",
      "[[4 5 6]\n",
      " [4 5 6]]\n"
     ]
    }
   ],
   "source": [
    "array1[0] = [4, 5, 6]\n",
    "print(array1)\n",
    "print(array2)\n",
    "print(array3)"
   ]
  },
  {
   "cell_type": "code",
   "execution_count": 9,
   "id": "56eb76dd-eb4c-4d54-88b2-dbeafa11a5f6",
   "metadata": {},
   "outputs": [
    {
     "name": "stdout",
     "output_type": "stream",
     "text": [
      "(2, 3)\n"
     ]
    }
   ],
   "source": [
    "testarray = np.array([[1, 2, 3], [4, 5, 6]])\n",
    "print(testarray.shape)"
   ]
  },
  {
   "cell_type": "code",
   "execution_count": 12,
   "id": "9c196e23-82d4-47cc-b6d6-df4de5691819",
   "metadata": {},
   "outputs": [
    {
     "name": "stdout",
     "output_type": "stream",
     "text": [
      "1\n",
      "6\n"
     ]
    }
   ],
   "source": [
    "print(testarray[0][0])\n",
    "print(testarray[1][2])"
   ]
  },
  {
   "cell_type": "code",
   "execution_count": 13,
   "id": "65d50548-0fc1-4a89-827c-13d85066952a",
   "metadata": {},
   "outputs": [
    {
     "name": "stdout",
     "output_type": "stream",
     "text": [
      "[0 1 2 3 4 5]\n"
     ]
    }
   ],
   "source": [
    "a = np.arange(6)\n",
    "print(a)"
   ]
  },
  {
   "cell_type": "code",
   "execution_count": 30,
   "id": "41a3bbbc-c901-4656-8e16-c7d5e47cc846",
   "metadata": {},
   "outputs": [
    {
     "data": {
      "text/plain": [
       "array([[[1, 2],\n",
       "        [3, 4]],\n",
       "\n",
       "       [[5, 6],\n",
       "        [7, 8]]])"
      ]
     },
     "execution_count": 30,
     "metadata": {},
     "output_type": "execute_result"
    }
   ],
   "source": [
    "a = np.array([[\n",
    "    [1, 2], [3, 4]],\n",
    "    [[5, 6], [7, 8]]])\n",
    "a"
   ]
  },
  {
   "cell_type": "code",
   "execution_count": 34,
   "id": "d61cc8a9-0aa5-4ef6-a6df-0c34e0998014",
   "metadata": {},
   "outputs": [
    {
     "name": "stdout",
     "output_type": "stream",
     "text": [
      "[[0. 0.]\n",
      " [0. 0.]]\n",
      "[0. 0.]\n",
      "0.0\n"
     ]
    }
   ],
   "source": [
    "zeros = np.zeros([2, 2, 2])\n",
    "print(zeros[-1])\n",
    "print(zeros[0][1])\n",
    "print(zeros[0][0][1])"
   ]
  },
  {
   "cell_type": "code",
   "execution_count": 35,
   "id": "79b566c5-3c05-45ff-9e7b-fad589169236",
   "metadata": {},
   "outputs": [
    {
     "data": {
      "text/plain": [
       "array([[1., 1., 1.],\n",
       "       [1., 1., 1.],\n",
       "       [1., 1., 1.]])"
      ]
     },
     "execution_count": 35,
     "metadata": {},
     "output_type": "execute_result"
    }
   ],
   "source": [
    "ones = np.ones([3, 3])\n",
    "ones"
   ]
  },
  {
   "cell_type": "code",
   "execution_count": 38,
   "id": "2e1963c0-de54-459b-a8b3-d0fa4bb3c4a6",
   "metadata": {},
   "outputs": [
    {
     "name": "stdout",
     "output_type": "stream",
     "text": [
      "i-> [1 2]\n",
      "j-> 1\n",
      "j-> 2\n",
      "2\n",
      "i-> [3 4]\n",
      "j-> 3\n",
      "j-> 4\n",
      "4\n"
     ]
    }
   ],
   "source": [
    "for i in a[0]:\n",
    "    print('i->', i)\n",
    "    for j in i:\n",
    "        print('j->', j)\n",
    "        if j % 2 == 0:\n",
    "            print(j)"
   ]
  },
  {
   "cell_type": "code",
   "execution_count": 56,
   "id": "b63fe803-92e6-4817-850f-7c056363391a",
   "metadata": {},
   "outputs": [
    {
     "name": "stdout",
     "output_type": "stream",
     "text": [
      "[1 2 3 4 5]\n",
      "1- [[5 6 7 8 9]\n",
      " [1 2 3 4 5]]\n",
      "2- [[1 2 3 4 5]\n",
      " [1 2 3 4 5]]\n",
      "3- [[2 4]\n",
      " [7 9]]\n"
     ]
    }
   ],
   "source": [
    "# [start:end:step]\n",
    "array = np.array([[1, 2, 3, 4, 5], \n",
    "                  [5, 6, 7, 8, 9], \n",
    "                  [1, 2, 3, 4, 5],\n",
    "                  [6, 7, 8, 9, 0]])\n",
    "print(array[2])\n",
    "print('1-', array[1:3])\n",
    "print('2-', array[::2])\n",
    "print('3-', array[2:, 1::2])"
   ]
  },
  {
   "cell_type": "markdown",
   "id": "a394226f-5015-4c12-bc93-0b1ef48345e0",
   "metadata": {},
   "source": [
    "### 배열 차원 변형"
   ]
  },
  {
   "cell_type": "code",
   "execution_count": 66,
   "id": "d2398040-5988-46ae-9ced-3e2830cc3ccf",
   "metadata": {},
   "outputs": [
    {
     "name": "stdout",
     "output_type": "stream",
     "text": [
      "[[[ 0  1]\n",
      "  [ 2  3]\n",
      "  [ 4  5]]\n",
      "\n",
      " [[ 6  7]\n",
      "  [ 8  9]\n",
      "  [10 11]]]\n",
      "------------------------------ \n",
      " C구조 방식 reshape\n",
      "[[ 0  1  2  3  4  5]\n",
      " [ 6  7  8  9 10 11]]\n",
      "------------------------------ \n",
      " Fortran 구조 방식 reshape\n",
      "[[ 0  2  4  6  8 10]\n",
      " [ 1  3  5  7  9 11]]\n"
     ]
    }
   ],
   "source": [
    "array = np.arange(12)\n",
    "\n",
    "reshape1 = array.reshape(2, 3, 2)\n",
    "reshape2 = np.reshape(array, (2, -1), order='C')\n",
    "reshape3 = np.reshape(array, (2, -1), order='F')\n",
    "# order='C' 메모리 c 구조\n",
    "# order='F' Fortran 구조\n",
    "\n",
    "print(reshape1)\n",
    "print('-'*30,'\\n C구조 방식 reshape')\n",
    "print(reshape2)\n",
    "print('-'*30,'\\n Fortran 구조 방식 reshape')\n",
    "print(reshape3)"
   ]
  },
  {
   "cell_type": "code",
   "execution_count": null,
   "id": "a013990c-b882-4269-9774-a7735f22e4f7",
   "metadata": {},
   "outputs": [],
   "source": [
    "a = np.arange(4)\n",
    "\n",
    "axis1 = a[np.newaxis]\n",
    "axis2 = a[:, np.newaxis]\n",
    "\n",
    "print('-'*30)\n",
    "print(axis1)\n",
    "print(axis1.shape)\n",
    "print('-'*30)\n",
    "print(axis2)\n",
    "print(axis2.shape)"
   ]
  }
 ],
 "metadata": {
  "kernelspec": {
   "display_name": "Python 3 (ipykernel)",
   "language": "python",
   "name": "python3"
  },
  "language_info": {
   "codemirror_mode": {
    "name": "ipython",
    "version": 3
   },
   "file_extension": ".py",
   "mimetype": "text/x-python",
   "name": "python",
   "nbconvert_exporter": "python",
   "pygments_lexer": "ipython3",
   "version": "3.9.7"
  }
 },
 "nbformat": 4,
 "nbformat_minor": 5
}
