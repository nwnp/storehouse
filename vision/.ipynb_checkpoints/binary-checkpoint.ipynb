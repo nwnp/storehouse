{
 "cells": [
  {
   "cell_type": "markdown",
   "id": "74d7f5ab-4db4-4382-9656-47271423d298",
   "metadata": {},
   "source": [
    "# 이진화\n",
    "- 동영상이나 이미지에서 어느 지점을 기준으로 픽셀을 분류해서 제외해야 할 때\n",
    "- 기준값에 따라 이분법적으로 구분해 픽셀을 참 또는 거짓으로 나누는 연산\n",
    "- 이미지 행렬에서 모든 픽셀에 대해 이러한 연산을 수행\n",
    "> retval, dst = ccv2.threshold(src, thresh, maxval, type)"
   ]
  },
  {
   "cell_type": "code",
   "execution_count": 1,
   "id": "fdc94dc2-a3c7-4b5d-a1e6-ef2a4ded4f7f",
   "metadata": {},
   "outputs": [],
   "source": [
    "import cv2"
   ]
  },
  {
   "cell_type": "code",
   "execution_count": 2,
   "id": "62b29762-320c-4a90-923f-2cac58494c82",
   "metadata": {},
   "outputs": [],
   "source": [
    "src = cv2.imread('swan.jpg')\n",
    "_, binary = cv2.threshold(src, 127, 255, cv2.THRESH_BINARY)"
   ]
  },
  {
   "cell_type": "code",
   "execution_count": 3,
   "id": "4c7b651a-c080-4122-8f1e-49c013b84670",
   "metadata": {},
   "outputs": [],
   "source": [
    "cv2.imshow('binary', binary)\n",
    "cv2.waitKey(0)\n",
    "cv2.destroyAllWindows()"
   ]
  },
  {
   "cell_type": "code",
   "execution_count": null,
   "id": "c781e97d-ed15-4cf7-a87e-f7a44142e4cf",
   "metadata": {},
   "outputs": [],
   "source": []
  }
 ],
 "metadata": {
  "kernelspec": {
   "display_name": "Python 3 (ipykernel)",
   "language": "python",
   "name": "python3"
  },
  "language_info": {
   "codemirror_mode": {
    "name": "ipython",
    "version": 3
   },
   "file_extension": ".py",
   "mimetype": "text/x-python",
   "name": "python",
   "nbconvert_exporter": "python",
   "pygments_lexer": "ipython3",
   "version": "3.9.7"
  }
 },
 "nbformat": 4,
 "nbformat_minor": 5
}
