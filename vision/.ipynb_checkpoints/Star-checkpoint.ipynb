{
 "cells": [
  {
   "cell_type": "markdown",
   "id": "6216ca5b-3e9a-4f34-8653-f674dde26026",
   "metadata": {
    "tags": []
   },
   "source": [
    "# 동영상 출력\n",
    "- 동영상 입력 클래스\n",
    "> capture = cv2.VideoCapture(fileName)"
   ]
  },
  {
   "cell_type": "code",
   "execution_count": 1,
   "id": "5ca4d8de-3b3b-43c3-bbd8-732c1a40cc38",
   "metadata": {},
   "outputs": [],
   "source": [
    "import cv2"
   ]
  },
  {
   "cell_type": "code",
   "execution_count": 14,
   "id": "506511c7-1ceb-4840-9792-76bace79b681",
   "metadata": {},
   "outputs": [
    {
     "data": {
      "text/plain": [
       "<VideoCapture 0x7fcbc91036f0>"
      ]
     },
     "execution_count": 14,
     "metadata": {},
     "output_type": "execute_result"
    }
   ],
   "source": [
    "capture = cv2.VideoCapture('Star.mp4')\n",
    "capture"
   ]
  },
  {
   "cell_type": "code",
   "execution_count": 16,
   "id": "a3f1ec92-0c08-4feb-8e25-ef28c98ab399",
   "metadata": {},
   "outputs": [],
   "source": [
    "while True:\n",
    "    ret, frame = capture.read()\n",
    "    \n",
    "    # if (capture.get(cv2.CAP_PROP_POS_FRAMES) == capture.get(cv2.CAP_PROP_FRAME_COUNT)):\n",
    "    #     capture.open('Star.mp4')\n",
    "    \n",
    "    if ret == False:\n",
    "        break\n",
    "    \n",
    "    cv2.imshow('VideoFrame', frame)\n",
    "    if cv2.waitKey(33) == ord('q'): break\n",
    "\n",
    "capture.release()\n",
    "cv2.destroyAllWindows()"
   ]
  },
  {
   "cell_type": "code",
   "execution_count": null,
   "id": "7293e088-a3a2-4a08-a06f-70eb423de631",
   "metadata": {},
   "outputs": [],
   "source": []
  }
 ],
 "metadata": {
  "kernelspec": {
   "display_name": "Python 3 (ipykernel)",
   "language": "python",
   "name": "python3"
  },
  "language_info": {
   "codemirror_mode": {
    "name": "ipython",
    "version": 3
   },
   "file_extension": ".py",
   "mimetype": "text/x-python",
   "name": "python",
   "nbconvert_exporter": "python",
   "pygments_lexer": "ipython3",
   "version": "3.9.7"
  }
 },
 "nbformat": 4,
 "nbformat_minor": 5
}
