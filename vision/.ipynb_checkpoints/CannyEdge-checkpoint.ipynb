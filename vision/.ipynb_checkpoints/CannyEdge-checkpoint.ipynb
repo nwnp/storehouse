{
 "cells": [
  {
   "cell_type": "code",
   "execution_count": 1,
   "id": "ba0bf810-9405-4403-af89-11614d969340",
   "metadata": {},
   "outputs": [],
   "source": [
    "import cv2\n",
    "import numpy as np"
   ]
  },
  {
   "cell_type": "code",
   "execution_count": 2,
   "id": "3a8ed299-5c6b-41c0-8345-83adc6b5c660",
   "metadata": {},
   "outputs": [],
   "source": [
    "src = cv2.imread('book.jpg', cv2.IMREAD_GRAYSCALE)\n",
    "dst = cv2.Canny(src, 100, 200, apertureSize=3, L2gradient=True)"
   ]
  },
  {
   "cell_type": "code",
   "execution_count": 3,
   "id": "ac8091b2-3d56-4bde-9db4-878889ceb575",
   "metadata": {},
   "outputs": [],
   "source": [
    "cv2.imshow('dst', dst)\n",
    "cv2.waitKey(0)\n",
    "cv2.destroyAllWindows()"
   ]
  },
  {
   "cell_type": "code",
   "execution_count": null,
   "id": "f2e528be-ac2e-46c5-a823-4195accade43",
   "metadata": {},
   "outputs": [],
   "source": []
  }
 ],
 "metadata": {
  "kernelspec": {
   "display_name": "Python 3 (ipykernel)",
   "language": "python",
   "name": "python3"
  },
  "language_info": {
   "codemirror_mode": {
    "name": "ipython",
    "version": 3
   },
   "file_extension": ".py",
   "mimetype": "text/x-python",
   "name": "python",
   "nbconvert_exporter": "python",
   "pygments_lexer": "ipython3",
   "version": "3.9.7"
  }
 },
 "nbformat": 4,
 "nbformat_minor": 5
}
