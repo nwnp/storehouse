{
 "cells": [
  {
   "cell_type": "markdown",
   "id": "5d15a0b4-db2a-4c1a-ae6e-708a40cce989",
   "metadata": {},
   "source": [
    "# 이미지 연결\n",
    "- 수평 이미지 연결 함수\n",
    "> dst = cv2.hconcat( src )\n",
    ">> 이미지 연결 함수 ➡️ 입력 이미지 배열(src)을 수평 또는 수직 방향으로 연결해 출력 이미지(dst)로 반환\n",
    "- 수직 이미지 연결 함수\n",
    "> dst = cv2.vconcat( src )\n"
   ]
  },
  {
   "cell_type": "code",
   "execution_count": 8,
   "id": "9e4ef91f-9ad8-42bb-bc8e-e6d7cafaa71f",
   "metadata": {},
   "outputs": [],
   "source": [
    "import cv2\n",
    "import numpy as np"
   ]
  },
  {
   "cell_type": "code",
   "execution_count": 9,
   "id": "242632ad-1419-437c-a0e9-cb2ccb72eee2",
   "metadata": {},
   "outputs": [],
   "source": [
    "one = cv2.imread('one.jpg')\n",
    "two = cv2.imread('two.jpg')\n",
    "three = cv2.imread('three.jpg')\n",
    "four = cv2.imread('four.jpg')"
   ]
  },
  {
   "cell_type": "code",
   "execution_count": 10,
   "id": "eaf2a983-6e30-4c35-93a7-fbaf48f643d9",
   "metadata": {},
   "outputs": [],
   "source": [
    "horizontal1 = np.full((50, one.shape[1], 3), [0, 0, 0], dtype=np.uint8)\n",
    "horizontal2 = np.full((50, two.shape[1], 3), [0, 0, 0], dtype=np.uint8)"
   ]
  },
  {
   "cell_type": "code",
   "execution_count": 12,
   "id": "af9f3cae-b3cb-4e7e-846e-8c1a50479e44",
   "metadata": {},
   "outputs": [],
   "source": [
    "left = cv2.vconcat((one, horizontal1, three))\n",
    "right = np.vstack((two, horizontal2, four))"
   ]
  },
  {
   "cell_type": "code",
   "execution_count": 13,
   "id": "114bd6b2-456a-4ea6-a74e-f4c04bbad6d1",
   "metadata": {},
   "outputs": [],
   "source": [
    "vertical = np.full((left.shape[0], 50, 3), 0, dtype=np.uint8)"
   ]
  },
  {
   "cell_type": "code",
   "execution_count": 14,
   "id": "dcc3c03a-ce3a-4dd2-ba81-cbadb2a2b6bb",
   "metadata": {},
   "outputs": [],
   "source": [
    "dst = cv2.hconcat((left, vertical, right))"
   ]
  },
  {
   "cell_type": "code",
   "execution_count": 15,
   "id": "992b7996-9fd6-4a3a-9a4f-0c561d6137b4",
   "metadata": {},
   "outputs": [],
   "source": [
    "cv2.imshow('dst', dst)"
   ]
  },
  {
   "cell_type": "code",
   "execution_count": 16,
   "id": "0453c431-f927-4cfe-bf35-f47b2f3ea1d9",
   "metadata": {},
   "outputs": [
    {
     "data": {
      "text/plain": [
       "119"
      ]
     },
     "execution_count": 16,
     "metadata": {},
     "output_type": "execute_result"
    }
   ],
   "source": [
    "cv2.waitKey()"
   ]
  },
  {
   "cell_type": "code",
   "execution_count": 17,
   "id": "9e1f8662-0771-4352-925e-f4ff7a6c68ed",
   "metadata": {},
   "outputs": [],
   "source": [
    "cv2.destroyAllWindows()"
   ]
  },
  {
   "cell_type": "code",
   "execution_count": null,
   "id": "9aa2ae41-9eb7-482a-8b1e-9584c33db546",
   "metadata": {},
   "outputs": [],
   "source": []
  }
 ],
 "metadata": {
  "kernelspec": {
   "display_name": "Python 3 (ipykernel)",
   "language": "python",
   "name": "python3"
  },
  "language_info": {
   "codemirror_mode": {
    "name": "ipython",
    "version": 3
   },
   "file_extension": ".py",
   "mimetype": "text/x-python",
   "name": "python",
   "nbconvert_exporter": "python",
   "pygments_lexer": "ipython3",
   "version": "3.9.7"
  }
 },
 "nbformat": 4,
 "nbformat_minor": 5
}
