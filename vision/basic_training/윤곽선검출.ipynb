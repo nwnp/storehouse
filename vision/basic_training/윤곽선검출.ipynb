{
 "cells": [
  {
   "cell_type": "code",
   "execution_count": 1,
   "id": "7efe6fab-e693-4969-a655-d747e78b1ad1",
   "metadata": {},
   "outputs": [],
   "source": [
    "import cv2\n",
    "import numpy as np"
   ]
  },
  {
   "cell_type": "code",
   "execution_count": 3,
   "id": "bfa843e5-6d12-4580-ba35-1b5f50f6a39d",
   "metadata": {},
   "outputs": [],
   "source": [
    "src = cv2.imread('chess.png')\n",
    "dst = src.copy()"
   ]
  },
  {
   "cell_type": "code",
   "execution_count": 4,
   "id": "93f45002-a691-40eb-8c93-7e1396487ab7",
   "metadata": {},
   "outputs": [],
   "source": [
    "kernel = cv2.getStructuringElement(cv2.MORPH_RECT, (3,3))"
   ]
  },
  {
   "cell_type": "code",
   "execution_count": 5,
   "id": "31a56f19-8381-4138-a28c-33c934b2cc0a",
   "metadata": {},
   "outputs": [],
   "source": [
    "gray = cv2.cvtColor(src, cv2.COLOR_RGB2GRAY)\n",
    "ret, binary = cv2.threshold(gray, 230, 255, cv2.THRESH_BINARY)\n",
    "morp = cv2.morphologyEx(binary, cv2.MORPH_CLOSE, kernel, iterations=2)\n",
    "image = cv2.bitwise_not(morp)"
   ]
  },
  {
   "cell_type": "code",
   "execution_count": 6,
   "id": "68f3567e-b75e-4f21-a308-c94d368bd122",
   "metadata": {},
   "outputs": [
    {
     "name": "stdout",
     "output_type": "stream",
     "text": [
      "0 [ 2 -1  1 -1]\n",
      "1 [-1 -1 -1  0]\n",
      "2 [ 4  0  3 -1]\n",
      "3 [-1 -1 -1  2]\n",
      "4 [ 8  2  5 -1]\n",
      "5 [-1 -1  6  4]\n",
      "6 [ 7 -1 -1  5]\n",
      "7 [-1  6 -1  5]\n",
      "8 [10  4  9 -1]\n",
      "9 [-1 -1 -1  8]\n",
      "10 [12  8 11 -1]\n",
      "11 [-1 -1 -1 10]\n",
      "12 [-1 10 13 -1]\n",
      "13 [-1 -1 -1 12]\n"
     ]
    }
   ],
   "source": [
    "contours, hierarchy = cv2.findContours(image, cv2.RETR_TREE, cv2.CHAIN_APPROX_NONE)\n",
    "cv2.drawContours(dst, contours, -1, (0, 0, 255), 3)\n",
    "for i in range(len(contours)):\n",
    "    cv2.putText(dst, str(i), tuple(contours[i][0][0]), cv2.FONT_HERSHEY_COMPLEX, 1.3, (255, 0, 0), 1)\n",
    "    print(i, hierarchy[0][i])"
   ]
  },
  {
   "cell_type": "code",
   "execution_count": 7,
   "id": "e21908d6-1d64-4699-b73d-d75951f83802",
   "metadata": {},
   "outputs": [],
   "source": [
    "cv2.imshow('dst', dst)\n",
    "cv2.waitKey(0)\n",
    "cv2.destroyAllWindows()"
   ]
  },
  {
   "cell_type": "code",
   "execution_count": null,
   "id": "8cd5ca93-6a18-4f15-a7e8-a33683599c4e",
   "metadata": {},
   "outputs": [],
   "source": []
  }
 ],
 "metadata": {
  "kernelspec": {
   "display_name": "Python 3 (ipykernel)",
   "language": "python",
   "name": "python3"
  },
  "language_info": {
   "codemirror_mode": {
    "name": "ipython",
    "version": 3
   },
   "file_extension": ".py",
   "mimetype": "text/x-python",
   "name": "python",
   "nbconvert_exporter": "python",
   "pygments_lexer": "ipython3",
   "version": "3.9.7"
  }
 },
 "nbformat": 4,
 "nbformat_minor": 5
}
