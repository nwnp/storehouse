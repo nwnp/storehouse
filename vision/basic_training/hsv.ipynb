{
 "cells": [
  {
   "cell_type": "markdown",
   "id": "5884df59-36f1-4fa0-9432-729a359af08b",
   "metadata": {},
   "source": [
    "# HSV 색상 공간\n",
    "- 채널 분리 함수\n",
    "> mv = cv2.split(src)\n",
    "- 채널 병합 함수\n",
    "> dst = cv2.merge(src)\n",
    "- 리스트 반환 형식 변경\n",
    "> c0, c1, c2 = cv2.split(src)\n",
    "- 리스트 형식 입력\n",
    "> dst = cv2.merge([c0, c1, c2])\n",
    "- 배열 요소의 범위 설정 함수\n",
    "> dst = cv2.inRange(src, lowerb, upperb)\n",
    "- 배열 병합 함수\n",
    "> dst = cv2.addWeighted( src1, alpha, src2, beta, gamma, dtype=None )"
   ]
  },
  {
   "cell_type": "code",
   "execution_count": 2,
   "id": "80abbbe6-fadb-445d-90c5-4475c395da4d",
   "metadata": {},
   "outputs": [],
   "source": [
    "# 채널 분리\n",
    "import cv2"
   ]
  },
  {
   "cell_type": "code",
   "execution_count": 3,
   "id": "9551210b-4617-4035-96b4-b8303b6e63d2",
   "metadata": {},
   "outputs": [],
   "source": [
    "src = cv2.imread('tomato.jpg')"
   ]
  },
  {
   "cell_type": "code",
   "execution_count": 4,
   "id": "e794114c-2cd2-400a-81a1-bca942807e7d",
   "metadata": {},
   "outputs": [],
   "source": [
    "hsv = cv2.cvtColor(src, cv2.COLOR_BGR2HSV)"
   ]
  },
  {
   "cell_type": "code",
   "execution_count": 5,
   "id": "483dd82e-ac69-4b91-b835-ad42339ec964",
   "metadata": {},
   "outputs": [],
   "source": [
    "h, s, v = cv2.split(hsv)\n",
    "h_red = cv2.inRange(h, 0, 5)"
   ]
  },
  {
   "cell_type": "code",
   "execution_count": 6,
   "id": "05006477-2c1f-4417-881a-317022933f59",
   "metadata": {},
   "outputs": [],
   "source": [
    "dst = cv2.bitwise_and(hsv, hsv, mask=h_red)\n",
    "dst = cv2.cvtColor(dst, cv2.COLOR_HSV2BGR)"
   ]
  },
  {
   "cell_type": "code",
   "execution_count": 7,
   "id": "57f6ae5e-5df4-43d1-a1ca-a6cf3c5c91b1",
   "metadata": {},
   "outputs": [],
   "source": [
    "cv2.imshow('dst', dst)\n",
    "cv2.waitKey(0)\n",
    "cv2.destroyAllWindows()"
   ]
  },
  {
   "cell_type": "code",
   "execution_count": null,
   "id": "5734a5fa-62a5-4767-8cfb-f058bb89b522",
   "metadata": {},
   "outputs": [],
   "source": []
  },
  {
   "cell_type": "code",
   "execution_count": null,
   "id": "fb59b08c-adce-48ee-a49a-e108a7e76352",
   "metadata": {},
   "outputs": [],
   "source": []
  }
 ],
 "metadata": {
  "kernelspec": {
   "display_name": "Python 3 (ipykernel)",
   "language": "python",
   "name": "python3"
  },
  "language_info": {
   "codemirror_mode": {
    "name": "ipython",
    "version": 3
   },
   "file_extension": ".py",
   "mimetype": "text/x-python",
   "name": "python",
   "nbconvert_exporter": "python",
   "pygments_lexer": "ipython3",
   "version": "3.9.7"
  }
 },
 "nbformat": 4,
 "nbformat_minor": 5
}
