{
 "cells": [
  {
   "cell_type": "markdown",
   "id": "ba83f54a-8fc9-4260-a4fd-c06e471d102d",
   "metadata": {},
   "source": [
    "# 집합\n",
    "#### 중복값 불가"
   ]
  },
  {
   "cell_type": "code",
   "execution_count": 5,
   "id": "622425cc-0cb3-414a-8a49-094d4a69b74b",
   "metadata": {},
   "outputs": [
    {
     "data": {
      "text/plain": [
       "{1, 2, 3}"
      ]
     },
     "execution_count": 5,
     "metadata": {},
     "output_type": "execute_result"
    }
   ],
   "source": [
    "a1 = set() # 비어있는 집합 선언\n",
    "a2 = set([1, 2, 3])\n",
    "a2"
   ]
  },
  {
   "cell_type": "code",
   "execution_count": 6,
   "id": "31fad318-7b5f-48c6-ace6-ac867824cff0",
   "metadata": {},
   "outputs": [
    {
     "data": {
      "text/plain": [
       "{1, 2, 3}"
      ]
     },
     "execution_count": 6,
     "metadata": {},
     "output_type": "execute_result"
    }
   ],
   "source": [
    "a3 = set([1, 2, 3, 3, 3, 3])\n",
    "a3"
   ]
  },
  {
   "cell_type": "markdown",
   "id": "bd7d6422-97d8-4e52-8ea7-169fca413bc6",
   "metadata": {},
   "source": [
    "#### 접근을 하기 위해서는 리스트나 튜플로 변환 후 사용"
   ]
  },
  {
   "cell_type": "code",
   "execution_count": 9,
   "id": "4aadb73a-4ca1-4db9-99a4-32ba50678c6d",
   "metadata": {},
   "outputs": [
    {
     "data": {
      "text/plain": [
       "3"
      ]
     },
     "execution_count": 9,
     "metadata": {},
     "output_type": "execute_result"
    }
   ],
   "source": [
    "s1 = set([1, 2, 3])\n",
    "list1 = list(s1)\n",
    "list1[2]"
   ]
  },
  {
   "cell_type": "markdown",
   "id": "d98a6f43-0934-44bc-b28e-c3eeb916918c",
   "metadata": {},
   "source": [
    "#### 교집합"
   ]
  },
  {
   "cell_type": "code",
   "execution_count": 16,
   "id": "6014da73-92e0-40d5-b9d4-c0bd4ef81f9a",
   "metadata": {},
   "outputs": [
    {
     "name": "stdout",
     "output_type": "stream",
     "text": [
      "{8, 6, 7}\n",
      "{8, 6, 7}\n"
     ]
    }
   ],
   "source": [
    "s1 = set([1, 2, 3, 4, 5, 6, 7, 8])\n",
    "s2 = set([6, 7, 8, 9, 10])\n",
    "print(s1 & s2)\n",
    "print(s1.intersection(s2))"
   ]
  },
  {
   "cell_type": "markdown",
   "id": "3b290fec-31f8-43f4-806c-7e433f6f0bb2",
   "metadata": {},
   "source": [
    "#### 합집합"
   ]
  },
  {
   "cell_type": "code",
   "execution_count": 17,
   "id": "c273894f-d9ad-4ba3-a22f-acb3d8d410fe",
   "metadata": {},
   "outputs": [
    {
     "name": "stdout",
     "output_type": "stream",
     "text": [
      "{1, 2, 3, 4, 5, 6, 7, 8, 9, 10}\n",
      "{1, 2, 3, 4, 5, 6, 7, 8, 9, 10}\n"
     ]
    }
   ],
   "source": [
    "print(s1 | s2)\n",
    "print(s1.union(s2))"
   ]
  },
  {
   "cell_type": "markdown",
   "id": "54846a0e-63b9-49a8-aa86-cd3d6ee685a8",
   "metadata": {},
   "source": [
    "#### 차집합"
   ]
  },
  {
   "cell_type": "code",
   "execution_count": 25,
   "id": "edfed90c-97ec-409b-9b01-90284149c86e",
   "metadata": {},
   "outputs": [
    {
     "name": "stdout",
     "output_type": "stream",
     "text": [
      "{1, 3}\n",
      "{1, 3}\n"
     ]
    }
   ],
   "source": [
    "print(s1 - s2)\n",
    "print(s1.difference(s2))"
   ]
  },
  {
   "cell_type": "markdown",
   "id": "e59c47fb-219b-48d7-8ce6-01ad816ceb2f",
   "metadata": {},
   "source": [
    "### 삽입"
   ]
  },
  {
   "cell_type": "code",
   "execution_count": 22,
   "id": "772c3fb9-6bef-4728-84a7-9807a3fbf4c0",
   "metadata": {},
   "outputs": [
    {
     "data": {
      "text/plain": [
       "{1, 2, 3, 4}"
      ]
     },
     "execution_count": 22,
     "metadata": {},
     "output_type": "execute_result"
    }
   ],
   "source": [
    "# 한 개 추가\n",
    "s1 = set([1, 2, 3])\n",
    "s1.add(4)\n",
    "s1"
   ]
  },
  {
   "cell_type": "code",
   "execution_count": 23,
   "id": "91dadf34-f560-4e70-bb6f-f3c94ae3b85b",
   "metadata": {},
   "outputs": [
    {
     "data": {
      "text/plain": [
       "{1, 2, 3, 4, 5, 6}"
      ]
     },
     "execution_count": 23,
     "metadata": {},
     "output_type": "execute_result"
    }
   ],
   "source": [
    "# 여러 개 추가\n",
    "s1 = set([1, 2, 3])\n",
    "s1.update([4, 5, 6])\n",
    "s1"
   ]
  },
  {
   "cell_type": "code",
   "execution_count": 24,
   "id": "cdce1a0e-4d59-4f8f-a2de-8fc1b7766c15",
   "metadata": {},
   "outputs": [
    {
     "name": "stdout",
     "output_type": "stream",
     "text": [
      "{1, 3}\n"
     ]
    }
   ],
   "source": [
    "# 제거\n",
    "s1 = set([1, 2, 3])\n",
    "s1.remove(2)\n",
    "print(s1)"
   ]
  },
  {
   "cell_type": "code",
   "execution_count": null,
   "id": "6b0a0291-191b-496f-8bb3-c51673ef182c",
   "metadata": {},
   "outputs": [],
   "source": []
  }
 ],
 "metadata": {
  "kernelspec": {
   "display_name": "Python 3 (ipykernel)",
   "language": "python",
   "name": "python3"
  },
  "language_info": {
   "codemirror_mode": {
    "name": "ipython",
    "version": 3
   },
   "file_extension": ".py",
   "mimetype": "text/x-python",
   "name": "python",
   "nbconvert_exporter": "python",
   "pygments_lexer": "ipython3",
   "version": "3.9.7"
  }
 },
 "nbformat": 4,
 "nbformat_minor": 5
}
