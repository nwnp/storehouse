{
 "cells": [
  {
   "cell_type": "code",
   "execution_count": 1,
   "id": "7e5d946a-e325-424e-ab6f-f7df781957f0",
   "metadata": {},
   "outputs": [],
   "source": [
    "import cv2"
   ]
  },
  {
   "cell_type": "code",
   "execution_count": 2,
   "id": "45ab2edc-64d5-46e1-86d6-a6d60a757307",
   "metadata": {},
   "outputs": [],
   "source": [
    "src = cv2.imread('tomato.jpg')\n",
    "hsv = cv2.cvtColor(src, cv2.COLOR_BGR2HSV)"
   ]
  },
  {
   "cell_type": "code",
   "execution_count": 4,
   "id": "b5a3035a-ad8a-43ac-894a-1486e45ba27e",
   "metadata": {},
   "outputs": [],
   "source": [
    "lower_red = cv2.inRange(hsv, (0, 100, 100), (5, 255, 255))\n",
    "upper_red = cv2.inRange(hsv, (170, 100, 100), (179, 255, 255))\n",
    "complete_red = cv2.addWeighted(lower_red, 1.0, upper_red, 1.0, 1.0)"
   ]
  },
  {
   "cell_type": "code",
   "execution_count": 5,
   "id": "479a226f-a951-4683-a358-6acff8dc846f",
   "metadata": {},
   "outputs": [],
   "source": [
    "dst = cv2.bitwise_and(hsv, hsv, mask=complete_red)"
   ]
  },
  {
   "cell_type": "code",
   "execution_count": 6,
   "id": "96234df4-0acf-45c3-9022-ae62e100f56b",
   "metadata": {},
   "outputs": [],
   "source": [
    "dst = cv2.cvtColor(dst, cv2.COLOR_HSV2BGR)"
   ]
  },
  {
   "cell_type": "code",
   "execution_count": 7,
   "id": "c37e322b-c9d5-45ed-af7b-54788d08ee6e",
   "metadata": {},
   "outputs": [],
   "source": [
    "cv2.imshow('dst', dst)\n",
    "cv2.waitKey(0)\n",
    "cv2.destroyAllWindows()"
   ]
  },
  {
   "cell_type": "code",
   "execution_count": null,
   "id": "97b2d748-f1b3-457f-b526-b1b72f529c27",
   "metadata": {},
   "outputs": [],
   "source": []
  }
 ],
 "metadata": {
  "kernelspec": {
   "display_name": "Python 3 (ipykernel)",
   "language": "python",
   "name": "python3"
  },
  "language_info": {
   "codemirror_mode": {
    "name": "ipython",
    "version": 3
   },
   "file_extension": ".py",
   "mimetype": "text/x-python",
   "name": "python",
   "nbconvert_exporter": "python",
   "pygments_lexer": "ipython3",
   "version": "3.9.7"
  }
 },
 "nbformat": 4,
 "nbformat_minor": 5
}
