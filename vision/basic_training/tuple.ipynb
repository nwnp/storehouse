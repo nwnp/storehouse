{
 "cells": [
  {
   "cell_type": "markdown",
   "id": "0216739a-25b7-4d96-9113-d3dab7cf7ca1",
   "metadata": {},
   "source": [
    "# 튜플\n",
    "#### 튜플은 immutable\n",
    "#### 변환이 불가능 -> 삭제, 삽입, 수정 불가능"
   ]
  },
  {
   "cell_type": "code",
   "execution_count": 13,
   "id": "d862c6fe-e10f-41d0-9604-d6a9c59eaaba",
   "metadata": {},
   "outputs": [],
   "source": [
    "t1 = ()\n",
    "t2 = (1,) # 1개 생성시 ( , ) 추가\n",
    "t3 = (1, 2, 3)\n",
    "t4 = 1, 2, 3 # 생략 가능\n",
    "t5 = (1, 2, ('a', 'b'))"
   ]
  },
  {
   "cell_type": "code",
   "execution_count": 14,
   "id": "51a1cb51-d9c5-406a-ad14-c4d1eb8fb84c",
   "metadata": {},
   "outputs": [
    {
     "name": "stdout",
     "output_type": "stream",
     "text": [
      "(1, 2, ('a', 'b'))\n"
     ]
    }
   ],
   "source": [
    "print(t5)"
   ]
  },
  {
   "cell_type": "code",
   "execution_count": 15,
   "id": "7ec7ae02-5327-45a1-a09f-355d98f65bc6",
   "metadata": {},
   "outputs": [
    {
     "name": "stdout",
     "output_type": "stream",
     "text": [
      "1\n"
     ]
    }
   ],
   "source": [
    "print(t5[0])"
   ]
  },
  {
   "cell_type": "code",
   "execution_count": 16,
   "id": "183b1961-9e37-45e2-9249-0ca148251384",
   "metadata": {},
   "outputs": [
    {
     "name": "stdout",
     "output_type": "stream",
     "text": [
      "(1,)\n"
     ]
    }
   ],
   "source": [
    "print(t1+t2)"
   ]
  },
  {
   "cell_type": "code",
   "execution_count": 17,
   "id": "675d033a-346f-42e5-8976-c9a5a5312b5c",
   "metadata": {},
   "outputs": [
    {
     "name": "stdout",
     "output_type": "stream",
     "text": [
      "(1, 1, 2, 3)\n"
     ]
    }
   ],
   "source": [
    "tuple = t2 + t3 # (1, 1, 2, 3)\n",
    "print(tuple)"
   ]
  },
  {
   "cell_type": "code",
   "execution_count": null,
   "id": "591985b1-9d10-4595-9aae-e41d12c68db9",
   "metadata": {},
   "outputs": [],
   "source": []
  }
 ],
 "metadata": {
  "kernelspec": {
   "display_name": "Python 3 (ipykernel)",
   "language": "python",
   "name": "python3"
  },
  "language_info": {
   "codemirror_mode": {
    "name": "ipython",
    "version": 3
   },
   "file_extension": ".py",
   "mimetype": "text/x-python",
   "name": "python",
   "nbconvert_exporter": "python",
   "pygments_lexer": "ipython3",
   "version": "3.9.7"
  }
 },
 "nbformat": 4,
 "nbformat_minor": 5
}
