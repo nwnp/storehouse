{
 "cells": [
  {
   "cell_type": "code",
   "execution_count": 2,
   "id": "46b9fda5-8f37-4d59-8961-96c975f783af",
   "metadata": {},
   "outputs": [],
   "source": [
    "import numpy as np\n",
    "import cv2"
   ]
  },
  {
   "cell_type": "code",
   "execution_count": 4,
   "id": "e8d65932-5845-48ae-a8b2-67f2c68dc781",
   "metadata": {},
   "outputs": [
    {
     "data": {
      "text/plain": [
       "(2449920, 3)"
      ]
     },
     "execution_count": 4,
     "metadata": {},
     "output_type": "execute_result"
    }
   ],
   "source": [
    "src = cv2.imread('book.jpg')\n",
    "data = src.reshape(-1, 3).astype(np.float32)\n",
    "data.shape"
   ]
  },
  {
   "cell_type": "code",
   "execution_count": 5,
   "id": "b18ce44a-204e-4ebb-80dd-9f39e2f01a8c",
   "metadata": {},
   "outputs": [],
   "source": [
    "K = 3"
   ]
  },
  {
   "cell_type": "code",
   "execution_count": 6,
   "id": "d1082573-4e26-4c50-91ef-1091745a4740",
   "metadata": {},
   "outputs": [],
   "source": [
    "criteria = (cv2.TERM_CRITERIA_MAX_ITER + cv2.TERM_CRITERIA_EPS, 10, 0.001)"
   ]
  },
  {
   "cell_type": "code",
   "execution_count": 7,
   "id": "489fdf5d-6607-4079-bfac-1734277c6902",
   "metadata": {},
   "outputs": [],
   "source": [
    "retval, bestLabels, centers = cv2.kmeans(\n",
    "    data, K, None, criteria, 10, cv2.KMEANS_RANDOM_CENTERS)"
   ]
  },
  {
   "cell_type": "code",
   "execution_count": 8,
   "id": "3fc80082-227a-4098-a4af-1057c0ba452e",
   "metadata": {},
   "outputs": [
    {
     "name": "stdout",
     "output_type": "stream",
     "text": [
      "[[150 173 198]\n",
      " [230 232 234]\n",
      " [ 26  56 144]] (3, 3)\n"
     ]
    }
   ],
   "source": [
    "centers = centers.astype(np.uint8)\n",
    "dst = centers[bestLabels].reshape(src.shape)\n",
    "print(centers, centers.shape)"
   ]
  },
  {
   "cell_type": "code",
   "execution_count": 8,
   "id": "923ba04f-e613-4a3e-a6bb-d659861fd4cd",
   "metadata": {},
   "outputs": [],
   "source": [
    "cv2.imshow('dst', dst)\n",
    "cv2.waitKey(0)\n",
    "cv2.destroyAllWindows()"
   ]
  },
  {
   "cell_type": "code",
   "execution_count": null,
   "id": "63761ec6-af77-4d39-9194-230d37f61c8d",
   "metadata": {},
   "outputs": [],
   "source": []
  }
 ],
 "metadata": {
  "kernelspec": {
   "display_name": "Python 3 (ipykernel)",
   "language": "python",
   "name": "python3"
  },
  "language_info": {
   "codemirror_mode": {
    "name": "ipython",
    "version": 3
   },
   "file_extension": ".py",
   "mimetype": "text/x-python",
   "name": "python",
   "nbconvert_exporter": "python",
   "pygments_lexer": "ipython3",
   "version": "3.9.7"
  }
 },
 "nbformat": 4,
 "nbformat_minor": 5
}
