{
 "cells": [
  {
   "cell_type": "markdown",
   "id": "8eb033ac-1ed8-4126-9baa-16d15d61c18a",
   "metadata": {},
   "source": [
    "# 배열의 병합 및 분리"
   ]
  },
  {
   "cell_type": "code",
   "execution_count": 3,
   "id": "3b0d4fd7-b297-4de6-99c0-84a03dde702d",
   "metadata": {},
   "outputs": [],
   "source": [
    "import numpy as np"
   ]
  },
  {
   "cell_type": "code",
   "execution_count": 5,
   "id": "bb75fb5a-f226-41e4-ad36-9604c4ced87a",
   "metadata": {},
   "outputs": [
    {
     "name": "stdout",
     "output_type": "stream",
     "text": [
      "[[[ 0  1  2]\n",
      "  [ 3  4  5]]\n",
      "\n",
      " [[ 6  7  8]\n",
      "  [ 9 10 11]]]\n",
      "------------------------------\n",
      "[[[ 0  6]\n",
      "  [ 1  7]\n",
      "  [ 2  8]]\n",
      "\n",
      " [[ 3  9]\n",
      "  [ 4 10]\n",
      "  [ 5 11]]]\n"
     ]
    }
   ],
   "source": [
    "array1 = np.arange(6).reshape(2, 3)\n",
    "array2 = np.arange(6, 12).reshape(2, 3)\n",
    "\n",
    "merge1 = np.stack([array1, array2], axis=0)\n",
    "merge2 = np.stack([array1, array2], axis=-1)\n",
    "\n",
    "print(merge1)\n",
    "print('-'*30)\n",
    "print(merge2)"
   ]
  },
  {
   "cell_type": "code",
   "execution_count": null,
   "id": "34b9b7fb-c04b-42fc-adf7-c309fca6c818",
   "metadata": {},
   "outputs": [],
   "source": []
  }
 ],
 "metadata": {
  "kernelspec": {
   "display_name": "Python 3 (ipykernel)",
   "language": "python",
   "name": "python3"
  },
  "language_info": {
   "codemirror_mode": {
    "name": "ipython",
    "version": 3
   },
   "file_extension": ".py",
   "mimetype": "text/x-python",
   "name": "python",
   "nbconvert_exporter": "python",
   "pygments_lexer": "ipython3",
   "version": "3.9.7"
  }
 },
 "nbformat": 4,
 "nbformat_minor": 5
}
