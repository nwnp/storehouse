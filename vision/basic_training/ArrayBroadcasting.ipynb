{
 "cells": [
  {
   "cell_type": "markdown",
   "id": "0ddd9247-f482-41e8-83ed-e656616bb144",
   "metadata": {},
   "source": [
    "# Array Broadcasting"
   ]
  },
  {
   "cell_type": "code",
   "execution_count": 1,
   "id": "dae309ff-3e4c-4d0d-bae6-aac0e0f759d2",
   "metadata": {},
   "outputs": [],
   "source": [
    "import numpy as np"
   ]
  },
  {
   "cell_type": "code",
   "execution_count": 2,
   "id": "073106ed-af14-4161-9bc4-7e389f349c14",
   "metadata": {},
   "outputs": [
    {
     "data": {
      "text/plain": [
       "array([[1, 2],\n",
       "       [3, 4]])"
      ]
     },
     "execution_count": 2,
     "metadata": {},
     "output_type": "execute_result"
    }
   ],
   "source": [
    "array1 = np.array([1, 2, 3, 4]).reshape(2, 2)\n",
    "array1"
   ]
  },
  {
   "cell_type": "code",
   "execution_count": 3,
   "id": "d51e6bd6-d21e-41f7-853d-6c4f33a18768",
   "metadata": {},
   "outputs": [
    {
     "data": {
      "text/plain": [
       "array([1, 2])"
      ]
     },
     "execution_count": 3,
     "metadata": {},
     "output_type": "execute_result"
    }
   ],
   "source": [
    "array2 = np.array([1, 2])\n",
    "array2"
   ]
  },
  {
   "cell_type": "code",
   "execution_count": 6,
   "id": "882e2b5d-5036-4ab4-b4c6-bb90efa76474",
   "metadata": {},
   "outputs": [
    {
     "data": {
      "text/plain": [
       "array([[2, 4],\n",
       "       [4, 6]])"
      ]
     },
     "execution_count": 6,
     "metadata": {},
     "output_type": "execute_result"
    }
   ],
   "source": [
    "add = array1 + array2\n",
    "# 같은 행과 열끼리 연산이 이루어짐\n",
    "add"
   ]
  },
  {
   "cell_type": "markdown",
   "id": "50f85c87-9728-431b-8773-7f501935c3a7",
   "metadata": {},
   "source": [
    "### ndarray\n",
    " - 행렬에 블록 단위로 접근하는 방식과 동일\n",
    " - 슬라이싱을 통해 원하는 영역의 범위를 설정하고 새로운 ndarray 클래스에 할당\n",
    " > 슬라이싱(배열[start:end:step, start:end:step])\n",
    " - 관심영역, 관심채널"
   ]
  },
  {
   "cell_type": "code",
   "execution_count": 15,
   "id": "667da4b3-4fc4-4eae-a650-4714fb4ed8c0",
   "metadata": {},
   "outputs": [],
   "source": [
    "# 관심영역\n",
    "array = np.zeros((1280, 1920, 3), np.uint8)"
   ]
  },
  {
   "cell_type": "code",
   "execution_count": 11,
   "id": "d4e38e8f-457c-4fc8-a91a-2853f6fbf472",
   "metadata": {},
   "outputs": [],
   "source": [
    "x, y, w, h = 100, 100, 300, 300\n",
    "roi = array[x:x+w, y:y+h]"
   ]
  },
  {
   "cell_type": "code",
   "execution_count": 13,
   "id": "2e2c0a2a-ab6d-408a-b42e-03cff254b738",
   "metadata": {},
   "outputs": [
    {
     "data": {
      "text/plain": [
       "(1280, 1920, 3)"
      ]
     },
     "execution_count": 13,
     "metadata": {},
     "output_type": "execute_result"
    }
   ],
   "source": [
    "array.shape"
   ]
  },
  {
   "cell_type": "code",
   "execution_count": 14,
   "id": "5dae8c3c-bdbf-4120-8d4d-3db5768c0a2a",
   "metadata": {},
   "outputs": [
    {
     "data": {
      "text/plain": [
       "(300, 300, 3)"
      ]
     },
     "execution_count": 14,
     "metadata": {},
     "output_type": "execute_result"
    }
   ],
   "source": [
    "roi.shape"
   ]
  },
  {
   "cell_type": "code",
   "execution_count": 17,
   "id": "5e6029d1-f936-4893-af5f-311d586d30cc",
   "metadata": {},
   "outputs": [],
   "source": [
    "# 관심채널\n",
    "coi = array[:, :, 0]"
   ]
  },
  {
   "cell_type": "code",
   "execution_count": 18,
   "id": "5d39ec5d-8ca6-4eb1-82ca-27170b66f017",
   "metadata": {},
   "outputs": [
    {
     "data": {
      "text/plain": [
       "(1280, 1920)"
      ]
     },
     "execution_count": 18,
     "metadata": {},
     "output_type": "execute_result"
    }
   ],
   "source": [
    "coi.shape"
   ]
  },
  {
   "cell_type": "code",
   "execution_count": null,
   "id": "0df3eff5-0d77-4633-9ff8-4e582b59c11f",
   "metadata": {},
   "outputs": [],
   "source": []
  }
 ],
 "metadata": {
  "kernelspec": {
   "display_name": "Python 3 (ipykernel)",
   "language": "python",
   "name": "python3"
  },
  "language_info": {
   "codemirror_mode": {
    "name": "ipython",
    "version": 3
   },
   "file_extension": ".py",
   "mimetype": "text/x-python",
   "name": "python",
   "nbconvert_exporter": "python",
   "pygments_lexer": "ipython3",
   "version": "3.9.7"
  }
 },
 "nbformat": 4,
 "nbformat_minor": 5
}
