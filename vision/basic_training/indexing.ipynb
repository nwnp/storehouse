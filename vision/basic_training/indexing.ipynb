{
 "cells": [
  {
   "cell_type": "code",
   "execution_count": 1,
   "id": "c78fd2a3-2d95-4eb7-bfaa-077500a7bb93",
   "metadata": {},
   "outputs": [
    {
     "name": "stdout",
     "output_type": "stream",
     "text": [
      "1\n"
     ]
    }
   ],
   "source": [
    "list1 = [1, 2, 3]\n",
    "print(list1[0])"
   ]
  },
  {
   "cell_type": "code",
   "execution_count": 2,
   "id": "4724fe4e-5d8e-45a9-9e60-0c48ce834c4f",
   "metadata": {},
   "outputs": [
    {
     "name": "stdout",
     "output_type": "stream",
     "text": [
      "4\n",
      "1\n"
     ]
    }
   ],
   "source": [
    "print(list1[0] + list1[2])\n",
    "print(list1[1] - 1)"
   ]
  },
  {
   "cell_type": "code",
   "execution_count": 4,
   "id": "436cce71-ef37-46f2-b9bb-8ef0c623826a",
   "metadata": {},
   "outputs": [
    {
     "name": "stdout",
     "output_type": "stream",
     "text": [
      "['Life', 'is']\n",
      "['Life', 'is']\n",
      "Life\n",
      "Life\n"
     ]
    }
   ],
   "source": [
    "e = [1, 2, ['Life', 'is']]\n",
    "print(e[-1])\n",
    "print(e[2])\n",
    "print(e[2][0])\n",
    "print(e[-1][0])"
   ]
  },
  {
   "cell_type": "code",
   "execution_count": 5,
   "id": "0d0cacf5-cf09-4f37-acb0-cb97ce24757f",
   "metadata": {},
   "outputs": [
    {
     "name": "stdout",
     "output_type": "stream",
     "text": [
      "['Life', 'is']\n"
     ]
    }
   ],
   "source": [
    "print(e[-1])"
   ]
  },
  {
   "cell_type": "code",
   "execution_count": null,
   "id": "17591b47-3985-4809-baba-3ec51ef502a4",
   "metadata": {},
   "outputs": [],
   "source": []
  }
 ],
 "metadata": {
  "kernelspec": {
   "display_name": "Python 3.8.9 64-bit",
   "language": "python",
   "name": "python389jvsc74a57bd0aee8b7b246df8f9039afb4144a1f6fd8d2ca17a180786b69acc140d282b71a49"
  },
  "language_info": {
   "codemirror_mode": {
    "name": "ipython",
    "version": 3
   },
   "file_extension": ".py",
   "mimetype": "text/x-python",
   "name": "python",
   "nbconvert_exporter": "python",
   "pygments_lexer": "ipython3",
   "version": "3.8.9"
  }
 },
 "nbformat": 4,
 "nbformat_minor": 5
}
