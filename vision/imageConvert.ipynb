{
 "cells": [
  {
   "cell_type": "markdown",
   "id": "41b6f24a-df3c-4995-916a-9965e22780af",
   "metadata": {},
   "source": [
    "# 색상 공간 변화\n",
    "- 색상 공간 변환 함수\n",
    "> dst = cv2.cvtColor(src, code, dstCn=None)"
   ]
  },
  {
   "cell_type": "code",
   "execution_count": 1,
   "id": "36b0f5f1-c552-4700-9c10-25da6525614a",
   "metadata": {},
   "outputs": [],
   "source": [
    "import cv2"
   ]
  },
  {
   "cell_type": "code",
   "execution_count": 2,
   "id": "96311029-e0b4-48b0-8fd7-acbde4a8262b",
   "metadata": {},
   "outputs": [],
   "source": [
    "src = cv2.imread('crow.jpg')\n",
    "dst = cv2.cvtColor(src, cv2.COLOR_BGR2HSV)"
   ]
  },
  {
   "cell_type": "code",
   "execution_count": 3,
   "id": "0f5cf327-de90-4e16-8dc2-e8170a50c5a4",
   "metadata": {},
   "outputs": [],
   "source": [
    "cv2.imshow('dst', dst)\n",
    "cv2.waitKey(0)\n",
    "cv2.destroyAllWindows()"
   ]
  },
  {
   "cell_type": "code",
   "execution_count": null,
   "id": "d2481016-4c2f-4f34-a5c4-71fb3da11de2",
   "metadata": {},
   "outputs": [],
   "source": []
  }
 ],
 "metadata": {
  "kernelspec": {
   "display_name": "Python 3 (ipykernel)",
   "language": "python",
   "name": "python3"
  },
  "language_info": {
   "codemirror_mode": {
    "name": "ipython",
    "version": 3
   },
   "file_extension": ".py",
   "mimetype": "text/x-python",
   "name": "python",
   "nbconvert_exporter": "python",
   "pygments_lexer": "ipython3",
   "version": "3.9.7"
  }
 },
 "nbformat": 4,
 "nbformat_minor": 5
}
