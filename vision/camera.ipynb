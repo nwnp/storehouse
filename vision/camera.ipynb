{
 "cells": [
  {
   "cell_type": "markdown",
   "id": "559b2d28-7163-4154-b34a-d4f00a363d91",
   "metadata": {},
   "source": [
    "# 카메라 출력\n",
    "- 카메라 출력 클래스\n",
    "> capture = cv2.VideoCapture(index)"
   ]
  },
  {
   "cell_type": "code",
   "execution_count": 5,
   "id": "7388fed2-3ff3-4745-983c-b9b2298784e2",
   "metadata": {},
   "outputs": [],
   "source": [
    "import cv2"
   ]
  },
  {
   "cell_type": "code",
   "execution_count": 7,
   "id": "52e4b3f9-2690-4d1e-b2c4-b2525181f0f2",
   "metadata": {},
   "outputs": [
    {
     "data": {
      "text/plain": [
       "True"
      ]
     },
     "execution_count": 7,
     "metadata": {},
     "output_type": "execute_result"
    }
   ],
   "source": [
    "capture = cv2.VideoCapture(0)\n",
    "capture.set(cv2.CAP_PROP_FRAME_WIDTH, 640)\n",
    "capture.set(cv2.CAP_PROP_FRAME_HEIGHT, 480)"
   ]
  },
  {
   "cell_type": "code",
   "execution_count": 9,
   "id": "b2d9338a-e0f2-439f-a2f0-30eae055f4e7",
   "metadata": {},
   "outputs": [],
   "source": [
    "while True:\n",
    "    ret, frame = capture.read()\n",
    "    if ret == True:\n",
    "        cv2.imshow('VideoFrame', frame)\n",
    "        if cv2.waitKey(33) == ord('q'): break\n",
    "    else:\n",
    "        break\n",
    "\n",
    "capture.release()\n",
    "cv2.destroyAllWindows()"
   ]
  },
  {
   "cell_type": "code",
   "execution_count": null,
   "id": "8162a077-e7bb-4ce8-b9fd-ca1b570f8587",
   "metadata": {},
   "outputs": [],
   "source": []
  }
 ],
 "metadata": {
  "kernelspec": {
   "display_name": "Python 3 (ipykernel)",
   "language": "python",
   "name": "python3"
  },
  "language_info": {
   "codemirror_mode": {
    "name": "ipython",
    "version": 3
   },
   "file_extension": ".py",
   "mimetype": "text/x-python",
   "name": "python",
   "nbconvert_exporter": "python",
   "pygments_lexer": "ipython3",
   "version": "3.9.7"
  }
 },
 "nbformat": 4,
 "nbformat_minor": 5
}
