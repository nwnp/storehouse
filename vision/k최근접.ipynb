{
 "cells": [
  {
   "cell_type": "code",
   "execution_count": 2,
   "id": "91383ab7-bff8-4906-9c5a-dac6b7b68efa",
   "metadata": {},
   "outputs": [],
   "source": [
    "import numpy as np\n",
    "import cv2"
   ]
  },
  {
   "cell_type": "code",
   "execution_count": 5,
   "id": "44865046-6bd5-470b-bfe7-e579de01fa32",
   "metadata": {},
   "outputs": [],
   "source": [
    "def loadTrainData(image_path, label_path):\n",
    "    with open(image_path, 'rb') as image_data:\n",
    "        images = np.frombuffer(image_data.read(), dtype=np.uint8, offset=16).reshape(-1, 784)\n",
    "    \n",
    "    with open(label_path, 'rb') as label_data:\n",
    "        labels = np.frombuffer(label_data.read(), dtype=np.uint8, offset=8)\n",
    "        \n",
    "    return images, labels"
   ]
  },
  {
   "cell_type": "code",
   "execution_count": 6,
   "id": "05b3dd09-e0f9-4afc-a377-ab5bbf0a11fc",
   "metadata": {},
   "outputs": [],
   "source": [
    "train_x, train_y = loadTrainData('./fashion-mnist/train-images-idx3-ubyte',\n",
    "                                 './fashion-mnist/train-labels-idx1-ubyte')"
   ]
  },
  {
   "cell_type": "code",
   "execution_count": 7,
   "id": "80cc4860-f2e5-4cc5-93db-245f3735c541",
   "metadata": {},
   "outputs": [],
   "source": [
    "test_x, test_y = loadTrainData('./fashion-mnist/t10k-images-idx3-ubyte',\n",
    "                                 './fashion-mnist/t10k-labels-idx1-ubyte')"
   ]
  },
  {
   "cell_type": "code",
   "execution_count": 6,
   "id": "4f510f61-e80a-475d-ae39-2d592f5a32dc",
   "metadata": {},
   "outputs": [],
   "source": [
    "cv2.imshow('images', train_x[0].reshape(28, 28, 1))\n",
    "cv2.waitKey()\n",
    "cv2.destroyAllWindows()"
   ]
  },
  {
   "cell_type": "code",
   "execution_count": 8,
   "id": "fc8e42b3-872f-4169-a034-cccd803ab505",
   "metadata": {},
   "outputs": [],
   "source": [
    "knn = cv2.ml.KNearest_create()"
   ]
  },
  {
   "cell_type": "code",
   "execution_count": 9,
   "id": "70b8e5a4",
   "metadata": {},
   "outputs": [
    {
     "data": {
      "text/plain": [
       "True"
      ]
     },
     "execution_count": 9,
     "metadata": {},
     "output_type": "execute_result"
    }
   ],
   "source": [
    "knn.train(train_x.astype(np.float32), cv2.ml.ROW_SAMPLE, train_y.astype(np.int32))"
   ]
  },
  {
   "cell_type": "code",
   "execution_count": 10,
   "id": "ab2b734f",
   "metadata": {},
   "outputs": [],
   "source": [
    "count = 500\n",
    "retval, results, neighborResponses, dist = knn.findNearest(test_x[:count].astype(np.float32), k=7)"
   ]
  },
  {
   "cell_type": "code",
   "execution_count": 11,
   "id": "264b6a9e",
   "metadata": {},
   "outputs": [
    {
     "name": "stdout",
     "output_type": "stream",
     "text": [
      "0.0\n"
     ]
    },
    {
     "name": "stderr",
     "output_type": "stream",
     "text": [
      "/var/folders/bc/fg8fw5yn50nd3bklrk22z2lh0000gn/T/ipykernel_64180/302902158.py:1: DeprecationWarning: elementwise comparison failed; this will raise an error in the future.\n",
      "  matches = results.astype(np.uint8) == test_y[:, None]\n"
     ]
    }
   ],
   "source": [
    "matches = results.astype(np.uint8) == test_y[:, None]\n",
    "print(np.count_nonzero(matches) / count * 100)"
   ]
  },
  {
   "cell_type": "code",
   "execution_count": null,
   "id": "28fcae90",
   "metadata": {},
   "outputs": [],
   "source": []
  }
 ],
 "metadata": {
  "kernelspec": {
   "display_name": "Python 3 (ipykernel)",
   "language": "python",
   "name": "python3"
  },
  "language_info": {
   "codemirror_mode": {
    "name": "ipython",
    "version": 3
   },
   "file_extension": ".py",
   "mimetype": "text/x-python",
   "name": "python",
   "nbconvert_exporter": "python",
   "pygments_lexer": "ipython3",
   "version": "3.9.7"
  }
 },
 "nbformat": 4,
 "nbformat_minor": 5
}
