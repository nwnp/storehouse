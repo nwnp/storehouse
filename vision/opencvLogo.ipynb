{
 "cells": [
  {
   "cell_type": "code",
   "execution_count": 1,
   "id": "b1b36221-f60b-4bf0-990b-78e816402bba",
   "metadata": {},
   "outputs": [],
   "source": [
    "import cv2"
   ]
  },
  {
   "cell_type": "code",
   "execution_count": 12,
   "id": "f8ddc128-9ebf-44fa-84eb-488f73c53d95",
   "metadata": {},
   "outputs": [
    {
     "data": {
      "text/plain": [
       "array([[[255, 255, 255],\n",
       "        [255, 255, 255],\n",
       "        [255, 255, 255],\n",
       "        ...,\n",
       "        [255, 255, 255],\n",
       "        [255, 255, 255],\n",
       "        [255, 255, 255]],\n",
       "\n",
       "       [[255, 255, 255],\n",
       "        [255, 255, 255],\n",
       "        [255, 255, 255],\n",
       "        ...,\n",
       "        [255, 255, 255],\n",
       "        [255, 255, 255],\n",
       "        [255, 255, 255]],\n",
       "\n",
       "       [[255, 255, 255],\n",
       "        [255, 255, 255],\n",
       "        [255, 255, 255],\n",
       "        ...,\n",
       "        [255, 255, 255],\n",
       "        [255, 255, 255],\n",
       "        [255, 255, 255]],\n",
       "\n",
       "       ...,\n",
       "\n",
       "       [[255, 255, 255],\n",
       "        [255, 255, 255],\n",
       "        [255, 255, 255],\n",
       "        ...,\n",
       "        [255, 255, 255],\n",
       "        [255, 255, 255],\n",
       "        [255, 255, 255]],\n",
       "\n",
       "       [[255, 255, 255],\n",
       "        [255, 255, 255],\n",
       "        [255, 255, 255],\n",
       "        ...,\n",
       "        [255, 255, 255],\n",
       "        [255, 255, 255],\n",
       "        [255, 255, 255]],\n",
       "\n",
       "       [[255, 255, 255],\n",
       "        [255, 255, 255],\n",
       "        [255, 255, 255],\n",
       "        ...,\n",
       "        [255, 255, 255],\n",
       "        [255, 255, 255],\n",
       "        [255, 255, 255]]], dtype=uint8)"
      ]
     },
     "execution_count": 12,
     "metadata": {},
     "output_type": "execute_result"
    }
   ],
   "source": [
    "src = cv2.imread('OpenCV_Logo.png', cv2.IMREAD_COLOR)\n",
    "# flag=다중채널 색상 이미지로 반환\n",
    "src"
   ]
  },
  {
   "cell_type": "code",
   "execution_count": 13,
   "id": "4dd56535-b2f5-492c-89ab-c3e3a7251f01",
   "metadata": {},
   "outputs": [
    {
     "name": "stdout",
     "output_type": "stream",
     "text": [
      "3 (739, 600, 3) uint8\n"
     ]
    }
   ],
   "source": [
    "print(src.ndim, src.shape, src.dtype)"
   ]
  },
  {
   "cell_type": "code",
   "execution_count": 14,
   "id": "7edb48f2-bd3e-4978-8de8-c59c3fcb497f",
   "metadata": {},
   "outputs": [],
   "source": [
    "cv2.namedWindow('window_name')"
   ]
  },
  {
   "cell_type": "code",
   "execution_count": 15,
   "id": "e8101506-1b85-4580-85bf-c370fabc9ca2",
   "metadata": {},
   "outputs": [],
   "source": [
    "cv2.resizeWindow('window_name', 400, 200)\n",
    "cv2.imshow('window_name', src)"
   ]
  },
  {
   "cell_type": "code",
   "execution_count": 18,
   "id": "e16a3f75-66e2-4429-a8d2-5f59ae08e1d6",
   "metadata": {},
   "outputs": [
    {
     "data": {
      "text/plain": [
       "48"
      ]
     },
     "execution_count": 18,
     "metadata": {},
     "output_type": "execute_result"
    }
   ],
   "source": [
    "cv2.waitKey(0)"
   ]
  },
  {
   "cell_type": "code",
   "execution_count": 19,
   "id": "88dd7b2c-6a00-4804-93d1-268108411934",
   "metadata": {},
   "outputs": [],
   "source": [
    "cv2.destroyWindow('window_name')"
   ]
  },
  {
   "cell_type": "code",
   "execution_count": null,
   "id": "428cd759-4560-47d8-a162-537a058f0c8c",
   "metadata": {},
   "outputs": [],
   "source": []
  }
 ],
 "metadata": {
  "kernelspec": {
   "display_name": "Python 3 (ipykernel)",
   "language": "python",
   "name": "python3"
  },
  "language_info": {
   "codemirror_mode": {
    "name": "ipython",
    "version": 3
   },
   "file_extension": ".py",
   "mimetype": "text/x-python",
   "name": "python",
   "nbconvert_exporter": "python",
   "pygments_lexer": "ipython3",
   "version": "3.9.7"
  }
 },
 "nbformat": 4,
 "nbformat_minor": 5
}
