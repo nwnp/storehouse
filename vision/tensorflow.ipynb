{
 "cells": [
  {
   "cell_type": "code",
   "execution_count": 2,
   "metadata": {},
   "outputs": [],
   "source": [
    "import cv2\n",
    "import numpy as np"
   ]
  },
  {
   "cell_type": "code",
   "execution_count": 3,
   "metadata": {},
   "outputs": [],
   "source": [
    "config = 'tensorflow_model/graph.pbtxt'\n",
    "model = 'tensorflow_model/frozen_inference_graph.pb'\n",
    "with open('tensorflow_model/labelmap.txt') as file:\n",
    "  classNames = file.read().splitlines()\n"
   ]
  },
  {
   "cell_type": "code",
   "execution_count": 4,
   "metadata": {},
   "outputs": [],
   "source": [
    "image = cv2.imread('umbrella.jpg')\n",
    "net = cv2.dnn.readNetFromTensorflow(model, config)\n",
    "inputBlob = cv2.dnn.blobFromImage(image, 1, (300, 300), swapRB=True, crop=False)"
   ]
  },
  {
   "cell_type": "code",
   "execution_count": 5,
   "metadata": {},
   "outputs": [
    {
     "name": "stdout",
     "output_type": "stream",
     "text": [
      "(1, 1, 100, 7)\n"
     ]
    }
   ],
   "source": [
    "net.setInput(inputBlob)\n",
    "outputBlob = net.forward()\n",
    "print(outputBlob.shape)\n",
    "# print(outputBlob.shape)"
   ]
  },
  {
   "cell_type": "code",
   "execution_count": 6,
   "metadata": {},
   "outputs": [],
   "source": [
    "for prob in outputBlob[0, 0, :, :]:\n",
    "  confidence = prob[2]\n",
    "  if confidence > 0.9:\n",
    "    classes = int(prob[1])\n",
    "    label = classNames[classes]\n",
    "    \n",
    "    x1 = int(prob[3] * image.shape[1])\n",
    "    y1 = int(prob[4] * image.shape[0])\n",
    "    x2 = int(prob[5] * image.shape[1])\n",
    "    y2 = int(prob[6] * image.shape[0])\n",
    "    cv2.rectangle(image, (x1, y1), (x2, y2), (0, 0, 255))\n",
    "    cv2.putText(image, label, (x1, y1), cv2.FONT_HERSHEY_COMPLEX, 1.0, (0, 0, 255))"
   ]
  },
  {
   "cell_type": "code",
   "execution_count": 7,
   "metadata": {},
   "outputs": [],
   "source": [
    "cv2.imshow('image', image)\n",
    "cv2.waitKey()\n",
    "cv2.destroyAllWindows()"
   ]
  },
  {
   "cell_type": "code",
   "execution_count": null,
   "metadata": {},
   "outputs": [],
   "source": []
  }
 ],
 "metadata": {
  "interpreter": {
   "hash": "a9eb9d52c5e1fdaba1baff1ed379ca935839f5fdb780c2972684153df17e1edb"
  },
  "kernelspec": {
   "display_name": "Python 3.9.7 64-bit ('jin': conda)",
   "language": "python",
   "name": "python3"
  },
  "language_info": {
   "codemirror_mode": {
    "name": "ipython",
    "version": 3
   },
   "file_extension": ".py",
   "mimetype": "text/x-python",
   "name": "python",
   "nbconvert_exporter": "python",
   "pygments_lexer": "ipython3",
   "version": "3.9.7"
  },
  "orig_nbformat": 4
 },
 "nbformat": 4,
 "nbformat_minor": 2
}
